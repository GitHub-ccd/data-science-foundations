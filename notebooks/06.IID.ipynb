{
 "cells": [
  {
   "cell_type": "markdown",
   "metadata": {},
   "source": [
    "## Second most important acronym\n",
    "\n",
    "So we come to the second most important acronym in statistics: iid. And the most important assumption. This will be important not only for the bootstrapping (up next) but throughout the class. \n",
    "\n",
    "This assumption has two parts:\n",
    "\n",
    "1. Independent\n",
    "2. Identically distributed\n",
    "\n",
    "The second assumption is pretty easy, so we will start there.\n",
    "\n",
    "#### Identically distributed\n",
    "\n",
    "This means that the samples come from the same r.v. More specifically, this means that the r.v. function is called in the exact same way. Below would be some identically distributed samples:"
   ]
  },
  {
   "cell_type": "code",
   "execution_count": 1,
   "metadata": {
    "collapsed": true
   },
   "outputs": [],
   "source": [
    "def rv(x):\n",
    "    return x + 1\n",
    "\n",
    "identically_distributed_samples = [rv(2) for _ in range(10)]"
   ]
  },
  {
   "cell_type": "markdown",
   "metadata": {},
   "source": [
    "In this case the samples are all the same (remember that a r.v. does not have to be random). "
   ]
  },
  {
   "cell_type": "markdown",
   "metadata": {},
   "source": [
    "And below is an example of samples that are not:"
   ]
  },
  {
   "cell_type": "code",
   "execution_count": 2,
   "metadata": {
    "collapsed": true
   },
   "outputs": [],
   "source": [
    "identically_distributed_samples = [rv(i) for i in range(10)]"
   ]
  },
  {
   "cell_type": "markdown",
   "metadata": {},
   "source": [
    "Now there is something subtle about this. Say we are measuring the height of pigs at a farm. We randomly pick a pig and then we measure the height. This is a real life r.v. Now let's say that we accidentally picked up a chicken and measured it and put it in the data set. Then that is not identically distributed right!\n",
    "\n",
    "But if instead you are measuring the height of farm animals, then picking a pig then a chicken would be right up your alley. So notice that the answer will greatly depend on how your problem is framed.\n",
    "\n",
    "The most important thing to remember here is to always know what you are sampling from.\n",
    "\n",
    "#### Sampling bias\n",
    "\n",
    "One of the side issues that we can talk a bit about here is sampling bias. The entire idea here is that if you sample from the wrong distribution "
   ]
  },
  {
   "cell_type": "markdown",
   "metadata": {},
   "source": [
    "#### Independent\n",
    "\n",
    "The next property that we will discuss is very hard to wrap your mind around, but this is independence. Two r.v. are independent if they do not depend on each other. In function speak, this would mean that the independent variables don't take as parameters each other (or any r.v. that is dependent on the other). Okay, confusing right, well, let's look at an example.\n",
    "\n",
    "These r.v. are independent:"
   ]
  },
  {
   "cell_type": "code",
   "execution_count": 4,
   "metadata": {},
   "outputs": [
    {
     "data": {
      "text/plain": [
       "(4, 5)"
      ]
     },
     "execution_count": 4,
     "metadata": {},
     "output_type": "execute_result"
    }
   ],
   "source": [
    "def ind1():\n",
    "    return 4\n",
    "\n",
    "def ind2():\n",
    "    return 5\n",
    "\n",
    "ind1(), ind2()"
   ]
  },
  {
   "cell_type": "markdown",
   "metadata": {},
   "source": [
    "These are not:"
   ]
  },
  {
   "cell_type": "code",
   "execution_count": 7,
   "metadata": {},
   "outputs": [
    {
     "name": "stdout",
     "output_type": "stream",
     "text": [
      "3\n",
      "6\n"
     ]
    }
   ],
   "source": [
    "def not_ind1():\n",
    "    return 3\n",
    "\n",
    "def not_ind2(x):\n",
    "    return 3 + x\n",
    "\n",
    "not_ind_sample = not_ind1()\n",
    "print not_ind_sample\n",
    "print not_ind2(not_ind_sample)"
   ]
  },
  {
   "cell_type": "markdown",
   "metadata": {},
   "source": [
    "Notice that one depends on the other's outcome. Another way of thinking about it is: if I know the outcome of one r.v., does that give me information as to the outcome of another?\n",
    "\n",
    "Okay, let's try a more complicated one:"
   ]
  },
  {
   "cell_type": "code",
   "execution_count": 8,
   "metadata": {},
   "outputs": [
    {
     "name": "stdout",
     "output_type": "stream",
     "text": [
      "3\n",
      "6\n",
      "3\n"
     ]
    }
   ],
   "source": [
    "def not_ind3(x):\n",
    "    return 0 + x\n",
    "\n",
    "not_ind_sample = not_ind1()\n",
    "\n",
    "print not_ind2(not_ind_sample) # called sample A\n",
    "print not_ind3(not_ind_sample) # called sample B"
   ]
  },
  {
   "cell_type": "markdown",
   "metadata": {},
   "source": [
    "Are these samples independent of each other? \n",
    "\n",
    "Actually not! One way of thinking about it is that both A and B are dependent on not_ind_sample, therefore they are mutually dependent. Another way of thinking about it is that if I know that the outcome of A is 6, then I know what the outcome of B will be. \n",
    "\n",
    "This is one of the most confusing parts of statistics and rightly so, and we would skip it if we could, but this assumption is so vitally important that there is no way to get around it.\n",
    "\n",
    "## Why this matters\n",
    "\n",
    "This is probably one of the most important lessons that you will learn here, because this is one of the ones that is most often messed up. Knowing what distribution you are sampling from and whether two things are independent are crucial assumptions that you will often make in statistics, and getting this wrong can often ruin entire projects (think of the Truman election or the recent facebook CL scandal)! "
   ]
  },
  {
   "cell_type": "code",
   "execution_count": null,
   "metadata": {
    "collapsed": true
   },
   "outputs": [],
   "source": []
  }
 ],
 "metadata": {
  "kernelspec": {
   "display_name": "Python 2",
   "language": "python",
   "name": "python2"
  },
  "language_info": {
   "codemirror_mode": {
    "name": "ipython",
    "version": 2
   },
   "file_extension": ".py",
   "mimetype": "text/x-python",
   "name": "python",
   "nbconvert_exporter": "python",
   "pygments_lexer": "ipython2",
   "version": "2.7.10"
  }
 },
 "nbformat": 4,
 "nbformat_minor": 2
}
