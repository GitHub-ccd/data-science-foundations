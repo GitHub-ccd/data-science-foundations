{
 "cells": [
  {
   "cell_type": "markdown",
   "metadata": {},
   "source": [
    "## More assumptions\n",
    "\n",
    "Before we even mention what new assumptions we will be making, we first need to ask ourselves, why do we need to make any more assumptions? \n",
    "\n",
    "At this point we have our data, isn't that enough?\n",
    "\n",
    "Well, currently we can only answer questions about the data that we have. \n",
    "\n",
    "But isn't that enough?\n",
    "\n",
    "Well somtimes. If you have enough money and time to ask every person in the world how tall they are, then you can use that data and our one assumption to answer some pretty useful questions. But often that is too expensive and time consuming.\n",
    "\n",
    "Or more commonly you will be able to collect data about current users, but you want to know the behaviour of future users.\n",
    "\n",
    "There are so many situations where you just can't get all the data. And in these situations it would be nice to say something about the data that you haven't seen. \n",
    "\n",
    "#### But why more assumptions\n",
    "\n",
    "Well say you collect 100 people's heights. So you have data. And you want to say something about the average height of people in general. What would you do? \n",
    "\n",
    "More than likely you might say: Well take the average height of the people I asked and that is probably a good estimate. But is it?\n",
    "\n",
    "What if the people you asked were all basketball players? Or the people were asked a thousand years ago (people were shorter then). Then would your estimate be a good one?\n",
    "\n",
    "With the current assumptions that we have made, we just can't say anything about data we have not seen, and this won't do.\n",
    "\n",
    "## It comes from a random variable\n",
    "\n",
    "So with no further ado, let's write our our next assumption that will help us do the above:"
   ]
  },
  {
   "cell_type": "code",
   "execution_count": 1,
   "metadata": {},
   "outputs": [
    {
     "data": {
      "image/png": "[encoded data removed]",
      "text/plain": [
       "<IPython.core.display.Image object>"
      ]
     },
     "execution_count": 1,
     "metadata": {},
     "output_type": "execute_result"
    }
   ],
   "source": [
    "import networkx as nx\n",
    "from nxpd import draw\n",
    "from nxpd import nxpdParams\n",
    "nxpdParams['show'] = 'ipynb'\n",
    "\n",
    "G = nx.DiGraph()\n",
    "G.add_node('IID samples from a r.v. X')\n",
    "G.add_node('Inputs (x_1, x_2, ..., x_n)')\n",
    "G.add_edge('IID samples from a r.v. X', 'Inputs (x_1, x_2, ..., x_n)')\n",
    "draw(G)"
   ]
  },
  {
   "cell_type": "markdown",
   "metadata": {},
   "source": [
    "Okay the good news is that we have our old familiar inputs, with n rows and m columns. The bad news is that we have a new node with a ton of completely new words. But that'sokay because we are here to learn!\n",
    "\n",
    "So we will take this one step at a time. Over the next couple lessons we will be exploring what these words mean, and then a few lessons down the line we will be talking about the power of this assumption. \n",
    "\n",
    "As a final word, this is not the only assumption that we can make, though this is by far the most common and applicable assumption. As we near the end of the course I will talk a little bit about different sets of assumptions that we could make and how these might influence our learning, but now is not the time or place for that. Just know that this is a perfectly reasonable and super useful assumption to make.\n",
    "\n",
    "## What is a random variable?\n",
    "\n",
    "This can often be an extremely hard subject to teach to students (with a ton of very odd metaphors (houses, blueprints, boxes and more). But what is really nice here is that we already have a common language that we can use to great effect, and that is computer science!\n",
    "\n",
    "So simply put, a ramdom variable is a function with the following properties:\n",
    "\n",
    "1. It is stateless (it doesn't depend on anything but it's arguements)\n",
    "2. It can take in any number of other random variables as arguements\n",
    "3. It returns any number of numbers\n",
    "4. It can use a random number generator to generate numbers from 0 to 1 uniformly\n",
    "\n",
    "That is it. These are all the rules of a random variable (often abreviated r.v.). But to have this sink in, let's make a few:"
   ]
  },
  {
   "cell_type": "code",
   "execution_count": 2,
   "metadata": {
    "collapsed": true
   },
   "outputs": [],
   "source": [
    "def always_1_rv():\n",
    "    return 1"
   ]
  },
  {
   "cell_type": "markdown",
   "metadata": {},
   "source": [
    "This is a random variable (not so random or variable right?)"
   ]
  },
  {
   "cell_type": "code",
   "execution_count": 6,
   "metadata": {
    "collapsed": true
   },
   "outputs": [],
   "source": [
    "from numpy import random\n",
    "\n",
    "def uniform_0_1_rv():\n",
    "    return [random.rand(), 1]"
   ]
  },
  {
   "cell_type": "markdown",
   "metadata": {},
   "source": [
    "Remember I said that the function has access to a random number generator. Well returning a random number from 0 to 1 is a perfectly fine r.v. In addition returning more than one number, fine as well.\n",
    "\n",
    "Let do another:"
   ]
  },
  {
   "cell_type": "code",
   "execution_count": 7,
   "metadata": {
    "collapsed": true
   },
   "outputs": [],
   "source": [
    "def multiplied_by_uniform_0_1_rv(another_rv):\n",
    "    return another_rv() * random.rand()"
   ]
  },
  {
   "cell_type": "markdown",
   "metadata": {},
   "source": [
    "Here is another example of a random variable. This guy takes the output of one r.v. and multiplies it by a random number between 0 and 1. This is a conditional r.v. (will will talk about that in the future).\n",
    "\n",
    "Finally, let me show you what is not a r.v.:"
   ]
  },
  {
   "cell_type": "code",
   "execution_count": 8,
   "metadata": {
    "collapsed": true
   },
   "outputs": [],
   "source": [
    "def not_a_rv():\n",
    "    return 'yellow'\n",
    "\n",
    "state = 4\n",
    "\n",
    "def still_not_a_rv():\n",
    "    return state"
   ]
  },
  {
   "cell_type": "markdown",
   "metadata": {},
   "source": [
    "The first does not return a number (easy). The second is a bit harder to catch. This one is not stateless (it refers to 'state'). It refers to something outside the function. This is a major no no for r.v., and can trip people up. So please remember this first and foremost.\n",
    "\n",
    "The last thing that we will explore today is: what is a sample?\n",
    "\n",
    "Again, this one is pretty simple. A sample is what you get when you call a random variable. Multiple samples are what you get when you call it multiple times. So for example, below is how you would get 5 samples from a random variable:"
   ]
  },
  {
   "cell_type": "code",
   "execution_count": 9,
   "metadata": {},
   "outputs": [
    {
     "data": {
      "text/plain": [
       "[0.5604136922901752,\n",
       " 0.01691976454379862,\n",
       " 0.9570303676524458,\n",
       " 0.6884299275110736,\n",
       " 0.708219224417088]"
      ]
     },
     "execution_count": 9,
     "metadata": {},
     "output_type": "execute_result"
    }
   ],
   "source": [
    "samples = [uniform_0_1_rv() for _ in range(5)]\n",
    "\n",
    "samples"
   ]
  },
  {
   "cell_type": "markdown",
   "metadata": {},
   "source": [
    "Notice that as soon as we sample the r.v., there is no longer any randomness!"
   ]
  },
  {
   "cell_type": "markdown",
   "metadata": {},
   "source": [
    "## What we have learned\n",
    "\n",
    "Today we learned why assumptions are important. We learned what our next assumption is, but not what it means and why it's useful. We learned what a random variable is and what samples are.\n",
    "\n",
    "Next time we will explore random variables a bit more by constructing a few random variables simulating real life enviornment. We will then explore what the distribution of a random variable looks like, as well as how we would get its mean and standard deviation (summary statistics)."
   ]
  },
  {
   "cell_type": "code",
   "execution_count": null,
   "metadata": {
    "collapsed": true
   },
   "outputs": [],
   "source": []
  }
 ],
 "metadata": {
  "kernelspec": {
   "display_name": "Python 2",
   "language": "python",
   "name": "python2"
  },
  "language_info": {
   "codemirror_mode": {
    "name": "ipython",
    "version": 2
   },
   "file_extension": ".py",
   "mimetype": "text/x-python",
   "name": "python",
   "nbconvert_exporter": "python",
   "pygments_lexer": "ipython2",
   "version": "2.7.10"
  }
 },
 "nbformat": 4,
 "nbformat_minor": 2
}
