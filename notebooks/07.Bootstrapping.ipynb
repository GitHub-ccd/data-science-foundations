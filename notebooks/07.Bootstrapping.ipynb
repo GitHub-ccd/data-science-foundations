{
 "cells": [
  {
   "cell_type": "markdown",
   "metadata": {},
   "source": [
    "## Back to the assumptions\n",
    "\n",
    "So we are finally at the point where we are able to fully understand the assumption that I made a long time ago, and for those that forgot it, let's throw it back up:"
   ]
  },
  {
   "cell_type": "code",
   "execution_count": 9,
   "metadata": {},
   "outputs": [
    {
     "data": {
      "image/png": "[encoded data removed]",
      "text/plain": [
       "<IPython.core.display.Image object>"
      ]
     },
     "execution_count": 9,
     "metadata": {},
     "output_type": "execute_result"
    }
   ],
   "source": [
    "import networkx as nx\n",
    "from nxpd import draw\n",
    "from nxpd import nxpdParams\n",
    "nxpdParams['show'] = 'ipynb'\n",
    "\n",
    "G = nx.DiGraph()\n",
    "G.add_node('IID samples from a r.v. X')\n",
    "G.add_node('Inputs (x_1, x_2, ..., x_n)')\n",
    "G.add_edge('IID samples from a r.v. X', 'Inputs (x_1, x_2, ..., x_n)')\n",
    "draw(G)"
   ]
  },
  {
   "cell_type": "markdown",
   "metadata": {},
   "source": [
    "So I have two assumptions, first is that I can generate IID samples from a r.v. X, and the second is that I have those samples as my input. And it turns out that we can work with these for a while before we need more! But let's recap.\n",
    "\n",
    "The first assumption says that there is some r.v. (a single one/identically distributed!) that we are sampling from. This means we have isolated where we get the data from, and we are very truthful about it.\n",
    "\n",
    "In the Truman election they wanted to sample the single variable: americans, so that they could estimate who would win the election (because you see americans vote in the american election).\n",
    "\n",
    "So they picked up their phone and called everyone that they could and they asked them who they were voting for. Do you see the problem? \n",
    "\n",
    "They weren't sampling americans, they were sampling americans with a phone! They were sampling the wrong population.\n",
    "\n",
    "The first assumption also says that those samples should be independent. Meaning that their outcomes don't depend on each other. Thus if you gather the data in such a way, you will hit the first assumption.\n",
    "\n",
    "The second assumption is easy: you have the data.\n",
    "\n",
    "And with only this much we can get cracking. "
   ]
  },
  {
   "cell_type": "markdown",
   "metadata": {},
   "source": [
    "## Bootstrapping\n",
    "\n",
    "Okay let's start off with the basics, what we are most interested in is the population distribution. For example: what is the height of all people in the world (imagine how much money it would take to collect all that data)! \n",
    "\n",
    "If we had that then we could answer nearly any question you could imagine about people's heights. But this is as I said above, often too hard or impossible to get. So the next best thing we can do is get summary statistics of the population (or at least our best guesses as to where they should be). \n",
    "\n",
    "One way to get this is with bootstrapping!\n",
    "\n",
    "So let's get started\n",
    "\n",
    "#### Estimators\n",
    "\n",
    "So let's say we are looking for the median (or choose anything --  skewness for example) of the population distribution. How would we get that from the samples? Well let's go ahead and do the obvious choice: let's use the median of our samples, why not?\n",
    "\n",
    "Below I will make a population distribution, sample it and then take the median:"
   ]
  },
  {
   "cell_type": "code",
   "execution_count": 10,
   "metadata": {
    "collapsed": true
   },
   "outputs": [],
   "source": [
    "import numpy as np\n",
    "\n",
    "population_dist = np.random.poisson(size=1000)\n",
    "\n",
    "sample = np.random.choice(population_dist, 10, False)"
   ]
  },
  {
   "cell_type": "code",
   "execution_count": 11,
   "metadata": {},
   "outputs": [
    {
     "name": "stdout",
     "output_type": "stream",
     "text": [
      "1.0\n",
      "1.0\n"
     ]
    }
   ],
   "source": [
    "print np.median(population_dist)\n",
    "print np.median(sample)"
   ]
  },
  {
   "cell_type": "markdown",
   "metadata": {},
   "source": [
    "Well there you have it, this works pretty well. We can go home right? Not quite. Perhaps you might have noticed this (it is pretty subtle), but the median of a sample from a population is a r.v. In fact any statistic of a sample in a r.v.\n",
    "\n",
    "Here, let me write it in a form that you would recognize:"
   ]
  },
  {
   "cell_type": "code",
   "execution_count": 12,
   "metadata": {
    "collapsed": true
   },
   "outputs": [],
   "source": [
    "def sample_median(population_dist):\n",
    "    sample = np.random.choice(population_dist, 10, False)\n",
    "    return np.median(sample)"
   ]
  },
  {
   "cell_type": "markdown",
   "metadata": {},
   "source": [
    "Sure it is dependent on a pop distribution, but it is still a r.v. We can even look at the distribution of this r.v.:"
   ]
  },
  {
   "cell_type": "code",
   "execution_count": 13,
   "metadata": {},
   "outputs": [
    {
     "data": {
      "text/plain": [
       "<matplotlib.axes._subplots.AxesSubplot at 0x10c8b4290>"
      ]
     },
     "execution_count": 13,
     "metadata": {},
     "output_type": "execute_result"
    },
    {
     "data": {
      "image/png": "[encoded data removed]",
      "text/plain": [
       "<matplotlib.figure.Figure at 0x10be3c750>"
      ]
     },
     "metadata": {},
     "output_type": "display_data"
    }
   ],
   "source": [
    "%matplotlib inline\n",
    "import seaborn as sns\n",
    "\n",
    "sns.distplot([sample_median(population_dist) for _ in range(10000)])"
   ]
  },
  {
   "cell_type": "markdown",
   "metadata": {},
   "source": [
    "Looks kind of odd right? But this is an approximate (not infinite samples) distribution of a r.v.\n",
    "\n",
    "So yes, we can just use the summary statistic of the sample as a best guess, but wouldn't it be awesome if we could know what this distribution of the summary statistic instead! That way we could say:\n",
    "\n",
    "<blockquote>\n",
    "Well the median is very likely to be 1, but there is a chance that is is 0 or .5 as well, so don't bet all your money on it being 1\n",
    "</blockquote>\n",
    "\n",
    "So again, we are stuck in this odd position, wouldn't it be nice if we knew more...\n",
    "\n",
    "Well in fact we do!"
   ]
  },
  {
   "cell_type": "markdown",
   "metadata": {},
   "source": [
    "#### Sampling from the sample\n",
    "\n",
    "Let me first say that this is not a proof. If you are looking for a proof for the above, then this is not the course for you, that being said, the below should give you some intuition.\n",
    "\n",
    "Well we know that X is a r.v. Do you remember what we used to approximate X's distribution? We used samples! And guess what we have in our assumptions... Samples! So we can use the samples to simulate the population distribution and take samples from the sample. \n",
    "\n",
    "Wow right. One thing to be careful of is that we will be taking samples with replacement. So let's go ahead and do that below and check out the resulting distribution:"
   ]
  },
  {
   "cell_type": "code",
   "execution_count": 14,
   "metadata": {},
   "outputs": [
    {
     "data": {
      "text/plain": [
       "<matplotlib.axes._subplots.AxesSubplot at 0x10be3cf10>"
      ]
     },
     "execution_count": 14,
     "metadata": {},
     "output_type": "execute_result"
    },
    {
     "data": {
      "image/png": "[encoded data removed]",
      "text/plain": [
       "<matplotlib.figure.Figure at 0x10be9dc10>"
      ]
     },
     "metadata": {},
     "output_type": "display_data"
    }
   ],
   "source": [
    "sample = np.random.choice(population_dist, 10, False)\n",
    "\n",
    "def sample_median_with_replacement(approximate_population_dist):\n",
    "    sample = np.random.choice(approximate_population_dist, 10, True)\n",
    "    return np.median(sample)\n",
    "\n",
    "sns.distplot([sample_median_with_replacement(sample) for _ in range(10000)])"
   ]
  },
  {
   "cell_type": "markdown",
   "metadata": {
    "collapsed": true
   },
   "source": [
    "Close right? It's best if you can take N to the N power of sample samples where N is your number of samples, but 10k is always a good number. \n",
    "\n",
    "So again this is an approximation of an approximation. If we increase 10k to be infinity we will be getting the true distribution to the approximation of the sampling distribution of the median. If we increase 10 to be infinity we will be getting an approximation of the true sampling distribution of the median. \n",
    "\n",
    "To test this out, let's increase the sample size. Below is the approximate of the true sampling distribution:"
   ]
  },
  {
   "cell_type": "code",
   "execution_count": 21,
   "metadata": {},
   "outputs": [
    {
     "data": {
      "text/plain": [
       "<matplotlib.axes._subplots.AxesSubplot at 0x10d969950>"
      ]
     },
     "execution_count": 21,
     "metadata": {},
     "output_type": "execute_result"
    },
    {
     "data": {
      "image/png": "[encoded data removed]",
      "text/plain": [
       "<matplotlib.figure.Figure at 0x10d975f50>"
      ]
     },
     "metadata": {},
     "output_type": "display_data"
    }
   ],
   "source": [
    "sample = np.random.choice(population_dist, 50, False)\n",
    "\n",
    "def sample_median(population_dist):\n",
    "    sample = np.random.choice(population_dist, 50, False)\n",
    "    return np.median(sample)\n",
    "\n",
    "sns.distplot([sample_median(population_dist) for _ in range(10000)])"
   ]
  },
  {
   "cell_type": "markdown",
   "metadata": {},
   "source": [
    "And below here is the approximate to the approximate sampling distribution:"
   ]
  },
  {
   "cell_type": "code",
   "execution_count": 15,
   "metadata": {},
   "outputs": [
    {
     "data": {
      "text/plain": [
       "<matplotlib.axes._subplots.AxesSubplot at 0x10d2324d0>"
      ]
     },
     "execution_count": 15,
     "metadata": {},
     "output_type": "execute_result"
    },
    {
     "data": {
      "image/png": "[encoded data removed]",
      "text/plain": [
       "<matplotlib.figure.Figure at 0x10d0506d0>"
      ]
     },
     "metadata": {},
     "output_type": "display_data"
    }
   ],
   "source": [
    "sample = np.random.choice(population_dist, 50, False)\n",
    "\n",
    "def sample_median_with_replacement(approximate_population_dist):\n",
    "    sample = np.random.choice(approximate_population_dist, 50, True)\n",
    "    return np.median(sample)\n",
    "\n",
    "sns.distplot([sample_median_with_replacement(sample) for _ in range(10000)])"
   ]
  },
  {
   "cell_type": "markdown",
   "metadata": {},
   "source": [
    "Starting to look pretty close right?"
   ]
  },
  {
   "cell_type": "markdown",
   "metadata": {},
   "source": [
    "## Why this matters\n",
    "\n",
    "We will cover the big reasons why this matters next class, but you should be able to understand having a distribution (approximate) of a summary statistic of a population is incredibly valuable!\n",
    "\n",
    "We can easily say: it's likely that the standard deviation of the height of the population of people is XYZ."
   ]
  },
  {
   "cell_type": "code",
   "execution_count": null,
   "metadata": {
    "collapsed": true
   },
   "outputs": [],
   "source": []
  }
 ],
 "metadata": {
  "kernelspec": {
   "display_name": "Python 2",
   "language": "python",
   "name": "python2"
  },
  "language_info": {
   "codemirror_mode": {
    "name": "ipython",
    "version": 2
   },
   "file_extension": ".py",
   "mimetype": "text/x-python",
   "name": "python",
   "nbconvert_exporter": "python",
   "pygments_lexer": "ipython2",
   "version": "2.7.10"
  }
 },
 "nbformat": 4,
 "nbformat_minor": 2
}
