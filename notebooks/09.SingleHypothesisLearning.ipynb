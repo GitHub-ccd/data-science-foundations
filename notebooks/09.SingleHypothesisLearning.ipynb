{
 "cells": [
  {
   "cell_type": "markdown",
   "metadata": {},
   "source": [
    "## The bin\n",
    "\n",
    "We are going to take a very long detour that will give us a ton of intuition about machine learning, and this detour begins with a bin. This bin only has read and green balls inside of it, and the bin has infinite balls.\n",
    "\n",
    "Okay a pretty far fetched bin (and you might be seeing the comparision that we will make later).\n",
    "\n",
    "Now what you want to know is the probability of picking a green marble from the bin. (Intuitively this probability would be the number of green marbles in the bin divided by the number of red marbles). But the only way that you get to know what this probability is, is by sampling from the bin: by taking just a handful of balls out of the bin.\n",
    "\n",
    "Let's be specific below:"
   ]
  },
  {
   "cell_type": "code",
   "execution_count": 10,
   "metadata": {},
   "outputs": [],
   "source": [
    "import numpy as np\n",
    "\n",
    "def rg_bin():\n",
    "    # trying to make this somewhat secret for suspense\n",
    "    secret_probability = 1 / float(0b0100) \n",
    "\n",
    "    if secret_probability < np.random.rand():\n",
    "        return 'r'\n",
    "    else:\n",
    "        return 'g'"
   ]
  },
  {
   "cell_type": "code",
   "execution_count": 11,
   "metadata": {},
   "outputs": [
    {
     "data": {
      "text/plain": [
       "['g', 'r', 'r', 'r', 'r', 'r', 'r', 'g', 'r', 'g']"
      ]
     },
     "execution_count": 11,
     "metadata": {},
     "output_type": "execute_result"
    }
   ],
   "source": [
    "sample = [rg_bin() for _ in range(10)]\n",
    "\n",
    "sample"
   ]
  },
  {
   "cell_type": "markdown",
   "metadata": {},
   "source": [
    "Some things to note here. Is rg_bin a r.v.? Not quite, it does not return a number. Are the samples iid? Yes. They are certainly independently distributed. And in this case they are independent as well.\n",
    "\n",
    "Now look at the above sample and tell be what you know about the secret_probability.\n",
    "\n",
    "Well not much for certain. You probably know that it is neither 0 nor 1. You might suspect that is is not so high, but do you know it for sure? No.\n",
    "\n",
    "We are again in this situation that the next sample might be completely different than this one. But what is the big difference that we have not accounted for yet? \n",
    "\n",
    "These samples aren't from Baal! They are just from a probability distribution! \n",
    "\n",
    "And what can we do with iid samples from a probability distribution?\n",
    "\n",
    "Soooo much :)"
   ]
  },
  {
   "cell_type": "markdown",
   "metadata": {},
   "source": [
    "## Bin bootstrapping\n",
    "\n",
    "We are interested in knowing the probability of drawing a green ball from the bin, and all we have is a sample from the bin. So what do we do?\n",
    "\n",
    "Bootstrap!\n",
    "\n",
    "In this case our estimator of interest is: the probability of drawing green from the bin. Below is the code to get our bootstrap distribution:"
   ]
  },
  {
   "cell_type": "code",
   "execution_count": 17,
   "metadata": {},
   "outputs": [
    {
     "data": {
      "text/plain": [
       "<matplotlib.axes._subplots.AxesSubplot at 0x10b6b3ad0>"
      ]
     },
     "execution_count": 17,
     "metadata": {},
     "output_type": "execute_result"
    },
    {
     "data": {
      "image/png": "[encoded data removed]",
      "text/plain": [
       "<matplotlib.figure.Figure at 0x10715ead0>"
      ]
     },
     "metadata": {},
     "output_type": "display_data"
    }
   ],
   "source": [
    "%matplotlib inline\n",
    "import seaborn as sns\n",
    "\n",
    "def green_prob(sample):\n",
    "    bootstrap_sample = np.random.choice(sample, 10, True)\n",
    "    return (np.array(bootstrap_sample) == 'g').mean()\n",
    "\n",
    "bootstrap_green_prob = [green_prob(sample) for _ in range(10000)]\n",
    "\n",
    "sns.distplot(bootstrap_green_prob)"
   ]
  },
  {
   "cell_type": "markdown",
   "metadata": {},
   "source": [
    "Now can you tell me anything about the probability of green in the population distribution?\n",
    "\n",
    "As always, the bigger the sample the better, and the more bootstrap estimates the better, but because we have iid samples from a r.v. we can say something about this magic bin. \n",
    "\n",
    "Above we can say that we are pretty confident that the probability of drawing a green from the population distribution is around .25"
   ]
  },
  {
   "cell_type": "markdown",
   "metadata": {},
   "source": [
    "## Connection to learning\n",
    "\n",
    "Well remember how we ended last class? We ended with the question: is it possible to learn? Well suprise the bin example has been moving toward that goal all along.\n",
    "\n",
    "Assume that each ball in the bin is a data point. There are infinitely many! \n",
    "\n",
    "Now assume that we have a hypothesis, g, that we want to test. Well even though we don't have the bin of data points, you can imagine testing the efficacy of your hypothesis on each of the data points. For each data point we ask if your hypothesis was right, and if it was right, then we color the data point/ball green. \n",
    "\n",
    "Then we can ask the question: how well does our hypothesis do on all the data? \n",
    "\n",
    "Before we had to say: no idea!\n",
    "\n",
    "But now because of what we have already learned, we can say: well based on the bootstrap estimate of the performance we are 95% confident that it is between this and that bound.\n",
    "\n",
    "So in summary, the bin is the population distribution, the balls are data points, the color of the balls is whether our hypothesis got them wrong or not, the sample of balls are our testing/training data, and the probability the ball is green, will be the probability that our hypothesis will be right on any given iid sample from the bin."
   ]
  },
  {
   "cell_type": "markdown",
   "metadata": {},
   "source": [
    "## Why does this matter\n",
    "\n",
    "The big thing here is that we have shown that we can learn (somewhat). We have shown that we can at least test to make sure that our final hypothesis works. \n",
    "\n",
    "But the next class we go over a cautionary tale, which is the one of learning. We show how you can test multiple hypotheses and still end up with a useful hypothesis in the end. But we learn the danger in doing so. "
   ]
  },
  {
   "cell_type": "markdown",
   "metadata": {},
   "source": [
    "## A note on other appoaches\n",
    "\n",
    "The typical approach used to make this point is a probabilistic one and requires more mathematical intuition about r.v. and probability distributions. And it uses something called the Hoeffding's Inequality. We will not be going over this in class, that being said, for those more mathematically and statistically inclined it might be fun to check it out and see how it applies to the above situation."
   ]
  },
  {
   "cell_type": "code",
   "execution_count": null,
   "metadata": {
    "collapsed": true
   },
   "outputs": [],
   "source": []
  }
 ],
 "metadata": {
  "kernelspec": {
   "display_name": "Python 2",
   "language": "python",
   "name": "python2"
  },
  "language_info": {
   "codemirror_mode": {
    "name": "ipython",
    "version": 2
   },
   "file_extension": ".py",
   "mimetype": "text/x-python",
   "name": "python",
   "nbconvert_exporter": "python",
   "pygments_lexer": "ipython2",
   "version": "2.7.10"
  }
 },
 "nbformat": 4,
 "nbformat_minor": 2
}
