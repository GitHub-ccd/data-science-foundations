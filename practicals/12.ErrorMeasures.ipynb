{
 "cells": [
  {
   "cell_type": "markdown",
   "metadata": {},
   "source": [
    "## Error Measures\n",
    "\n",
    "We have already gotten into the innards of a popular machine learning algorithm, KNN, and we have shown how to evaluate its performance. What we have not shown is what that evaluation of performance means.\n",
    "\n",
    "In evaluating a ML algorithm we compare the predicted results to the actual results, but that comparison is not prespecified. We have thusfar been using accuracy (which is useful for classification). But we can use many different forms. Let's start off by cleaning the data and doing a prediction on a new class: was political."
   ]
  },
  {
   "cell_type": "code",
   "execution_count": 1,
   "metadata": {
    "collapsed": true
   },
   "outputs": [],
   "source": [
    "import pandas as pd\n",
    "import numpy as np\n",
    "\n",
    "# we now consolidate the preprocessing\n",
    "def billionaire_preprocess():\n",
    "    data = pd.read_csv('../data/billionaires.csv')\n",
    "\n",
    "    del data['was founder']\n",
    "    del data['inherited']\n",
    "    del data['from emerging']\n",
    "\n",
    "    data.age.replace(-1, np.NaN, inplace=True)\n",
    "    data.founded.replace(0, np.NaN, inplace=True)\n",
    "    data.gdp.replace(0, np.NaN, inplace=True)\n",
    "    \n",
    "    del data['company.name']\n",
    "    del data['name']\n",
    "    del data['country code']\n",
    "    del data['citizenship']\n",
    "    del data['rank']\n",
    "    del data['relationship']\n",
    "    del data['sector']\n",
    "    \n",
    "    dummy_data = pd.get_dummies(data, dummy_na=True, columns=data.select_dtypes(exclude=['float64']), drop_first=True)\n",
    "    \n",
    "    return dummy_data"
   ]
  },
  {
   "cell_type": "code",
   "execution_count": 2,
   "metadata": {},
   "outputs": [
    {
     "name": "stdout",
     "output_type": "stream",
     "text": [
      "(1411, 69) (941, 69) (262, 69)\n"
     ]
    }
   ],
   "source": [
    "from sklearn.model_selection import train_test_split\n",
    "\n",
    "# now we get the data\n",
    "data = billionaire_preprocess()\n",
    "\n",
    "# we parse out the target (this time classification)\n",
    "y = data['was political_True']\n",
    "del data['was political_True']\n",
    "del data['was political_nan']\n",
    "\n",
    "# we make our test set\n",
    "X_train, X_test, y_train, y_test = train_test_split(data, y, test_size=0.1, random_state=1)\n",
    "\n",
    "# and we make our validation set\n",
    "X_train, X_val, y_train, y_val = train_test_split(X_train, y_train, test_size=0.4, random_state=1)\n",
    "\n",
    "print X_train.shape, X_val.shape, X_test.shape"
   ]
  },
  {
   "cell_type": "code",
   "execution_count": 3,
   "metadata": {
    "collapsed": true
   },
   "outputs": [],
   "source": [
    "from sklearn.preprocessing import StandardScaler\n",
    "from sklearn.preprocessing import Imputer\n",
    "from sklearn.feature_selection import VarianceThreshold\n",
    "from sklearn.feature_selection import SelectKBest\n",
    "\n",
    "def billionaire_feature_eng(X, y, quantitative_pipeline, aggregated_pipeline, training=False):\n",
    "    data = X.copy()\n",
    "\n",
    "    qualitative_features = data.select_dtypes(exclude=['float64'])\n",
    "    quantitative_features = data.select_dtypes(include=['float64'])\n",
    "    \n",
    "    if training:\n",
    "        quant_X = quantitative_pipeline.fit_transform(quantitative_features)\n",
    "    else:\n",
    "        quant_X = quantitative_pipeline.transform(quantitative_features)\n",
    "\n",
    "    X = np.concatenate([quant_X, qualitative_features], axis=1)\n",
    "    \n",
    "    if training:\n",
    "        X = aggregated_pipeline.fit_transform(X, y)\n",
    "    else:\n",
    "        X = aggregated_pipeline.transform(X)\n",
    "    \n",
    "    return X, y"
   ]
  },
  {
   "cell_type": "code",
   "execution_count": 4,
   "metadata": {},
   "outputs": [
    {
     "name": "stdout",
     "output_type": "stream",
     "text": [
      "Index([u'founded', u'company.type_subsidiary', u'region_North America',\n",
      "       u'wealth.type_founder non-finance',\n",
      "       u'wealth.type_privatized and resources'],\n",
      "      dtype='object')\n"
     ]
    }
   ],
   "source": [
    "from sklearn.pipeline import Pipeline\n",
    "from sklearn.feature_selection import mutual_info_classif\n",
    "\n",
    "# and we can abstract out specific parts of the pipeline\n",
    "quantitative_pipeline = Pipeline([\n",
    "    ('imputer', Imputer(strategy='median')),\n",
    "    ('standardize', StandardScaler()) \n",
    "])\n",
    "\n",
    "aggregated_pipeline = Pipeline([\n",
    "    ('var_threshold', VarianceThreshold(threshold=0.0)),\n",
    "    ('k_best', SelectKBest(mutual_info_classif, k=5))\n",
    "])\n",
    "\n",
    "X_train, y_train = billionaire_feature_eng(X_train, y_train, quantitative_pipeline, aggregated_pipeline, training=True)\n",
    "\n",
    "print data.columns[aggregated_pipeline.steps[0][1].get_support()][aggregated_pipeline.steps[1][1].get_support()]\n",
    "\n",
    "X_val, y_val = billionaire_feature_eng(X_val, y_val, quantitative_pipeline, aggregated_pipeline)"
   ]
  },
  {
   "cell_type": "code",
   "execution_count": 5,
   "metadata": {},
   "outputs": [
    {
     "name": "stdout",
     "output_type": "stream",
     "text": [
      "0.977321048901\n",
      "0.954303931987\n"
     ]
    }
   ],
   "source": [
    "from sklearn.neighbors import KNeighborsClassifier\n",
    "\n",
    "cls = KNeighborsClassifier(n_neighbors=3, weights='uniform')\n",
    "\n",
    "cls.fit(X_train, y_train)\n",
    "\n",
    "print cls.score(X_train, y_train)\n",
    "print cls.score(X_val, y_val)"
   ]
  },
  {
   "cell_type": "markdown",
   "metadata": {},
   "source": [
    "Pretty great accuracy right? We are correct in our predictions 97.8% of the time. Of course we will need to validate on our test set in order to get a tight bound (though we did only test one hypothesis here with our validation set).\n",
    "\n",
    "The problem here is that accuracy only tells one side of the story. In order to investigate the rest of the story, we will need to look at a confusion matrix, so let's make one below:"
   ]
  },
  {
   "cell_type": "code",
   "execution_count": 6,
   "metadata": {},
   "outputs": [
    {
     "data": {
      "text/plain": [
       "<matplotlib.axes._subplots.AxesSubplot at 0x10ce9b750>"
      ]
     },
     "execution_count": 6,
     "metadata": {},
     "output_type": "execute_result"
    },
    {
     "data": {
      "image/png": "[encoded data removed]",
      "text/plain": [
       "<matplotlib.figure.Figure at 0x10ce9bfd0>"
      ]
     },
     "metadata": {},
     "output_type": "display_data"
    }
   ],
   "source": [
    "%matplotlib inline\n",
    "import seaborn as sns\n",
    "\n",
    "from sklearn.metrics import confusion_matrix\n",
    "\n",
    "sns.heatmap(confusion_matrix(cls.predict(X_val), y_val), annot=True)"
   ]
  },
  {
   "cell_type": "markdown",
   "metadata": {
    "collapsed": true
   },
   "source": [
    "Okay, what are we looking at here? So notice that the matrix has four entries: two rows and two columns, where the rows and the columns have the same labels. The columns represent the true class of the data point. The rows represent the predicted value.\n",
    "\n",
    "So anything along the diagonal of the matrix was correctly predicted and anything off the diagonal was incorrectly predicted. And this is where we get to see something terrible about the predictions that we have made thusfar. While we get most of the 'not political' billionaires correct, we barely get any of the political billionaires correct!"
   ]
  },
  {
   "cell_type": "markdown",
   "metadata": {},
   "source": [
    "One of the other tools that is extremely useful to determine the true accuracy of your algorithm is the classification report:"
   ]
  },
  {
   "cell_type": "code",
   "execution_count": 9,
   "metadata": {},
   "outputs": [
    {
     "name": "stdout",
     "output_type": "stream",
     "text": [
      "             precision    recall  f1-score   support\n",
      "\n",
      "          0       0.98      0.98      0.98       913\n",
      "          1       0.24      0.25      0.25        28\n",
      "\n",
      "avg / total       0.96      0.95      0.95       941\n",
      "\n"
     ]
    }
   ],
   "source": [
    "from sklearn.metrics import classification_report\n",
    "\n",
    "print classification_report(cls.predict(X_val), y_val)"
   ]
  },
  {
   "cell_type": "markdown",
   "metadata": {},
   "source": [
    "Here we get the second best way to evaluate the performance of a classification model: precision and recall. \n",
    "\n",
    "Don't be too scared here as the terms are simply ways to summarize the above confusion matrix. Each class has its own precision, recall, f1 and support. \n",
    "\n",
    "* Precision: precision is a measure of how accurate your predictions are of the particular class. High precision means that when you predict a data point is this class, you should be pretty sure it is. Technically it is the number of correctly predicted instances of that class over total instances predicted of that class.\n",
    "* Recall: recall is a measure of how well you can find members of this class in the dataset. High recall means that you will be confident that you can identify a member of this class if you see it. Technically it is the number of correctly predicted instances of that class over total instances of that class.\n",
    "* F1 Score: this is simply an average of precision and recall. It is generally better to present both precision and recall rather than just F1.\n",
    "* Support: This is simple number of data points in this class."
   ]
  },
  {
   "cell_type": "markdown",
   "metadata": {},
   "source": [
    "Now we can see very clearly, we have high precision and recall for the non political class and low for the political class. This gives us a feel for the strengths and weaknesses of our algorithm and allows us to know where we need to focus our efforts."
   ]
  },
  {
   "cell_type": "markdown",
   "metadata": {},
   "source": [
    "## Other topics\n",
    "\n",
    "We could dwell on this topic for a full class, but it is good to mention some other very important techniques before we proceed. \n",
    "\n",
    "#### ROC/Precision Recall Curve\n",
    "\n",
    "One of the ways that we can further see how well our model does is change the threshold at which we predict certain classes. Previously we would claim a specific class only if we thought the probability it was that class was over 50%, but for very important decisions (cancer screened perhaps), you would want to be alerted when the chance was only 10%. The Precision Recall Curve (and ROC) is a way to visualize performance over these different thresholds.\n",
    "\n",
    "#### Class Imbalance\n",
    "\n",
    "Today we have seen that our algorithm does much better at predicting the more represented class. This is a common problem and there are many solutions to this problem (including sub-sampling and class reweighting) but we will not have the time to go over them during this class."
   ]
  }
 ],
 "metadata": {
  "kernelspec": {
   "display_name": "Python 2",
   "language": "python",
   "name": "python2"
  },
  "language_info": {
   "codemirror_mode": {
    "name": "ipython",
    "version": 2
   },
   "file_extension": ".py",
   "mimetype": "text/x-python",
   "name": "python",
   "nbconvert_exporter": "python",
   "pygments_lexer": "ipython2",
   "version": "2.7.10"
  }
 },
 "nbformat": 4,
 "nbformat_minor": 2
}
