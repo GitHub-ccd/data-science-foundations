{
 "cells": [
  {
   "cell_type": "markdown",
   "metadata": {},
   "source": [
    "#### Inputs and Outputs\n",
    "\n",
    "This might seem odd that we include the inputs as a description of machine learning algorthm but this is very important. The first point to mention is that each machine learning algorithm is for a specific type of output: quantitative or qualitative. Certain machine learning algorithms are specifically for qualitative outputs and some for quantitative (and some for both). Linear regression (and regression tasks in general) are for quantitative outcomes. In future lectures we will talk about ML for qualitative outcomes.\n",
    "\n",
    "The second concern is about the inputs. Some models need very specific inputs. So for example, or linear regression can only take quantitative features, so we need to make sure to convert all the values to quantitative ones before the regression. The second point that needs to be made is whether the data needs to be standardized. For linear regression the answer is two parts: no, unless there are interaction or quadratic terms (which you can read about [here](http://www.stat.columbia.edu/~gelman/research/published/ape17.pdf).\n",
    "\n",
    "In summary two points:\n",
    "\n",
    "1. Linear Regression is a regression model"
   ]
  }
 ],
 "metadata": {
  "kernelspec": {
   "display_name": "Python 2",
   "language": "python",
   "name": "python2"
  },
  "language_info": {
   "codemirror_mode": {
    "name": "ipython",
    "version": 2
   },
   "file_extension": ".py",
   "mimetype": "text/x-python",
   "name": "python",
   "nbconvert_exporter": "python",
   "pygments_lexer": "ipython2",
   "version": "2.7.10"
  }
 },
 "nbformat": 4,
 "nbformat_minor": 2
}
