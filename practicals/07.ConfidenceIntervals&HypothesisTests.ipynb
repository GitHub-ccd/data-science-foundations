{
 "cells": [
  {
   "cell_type": "markdown",
   "metadata": {},
   "source": [
    "## What's next\n",
    "\n",
    "So you have gone to your team and shown them your estimate of the median ages of billionaires. They are pretty happy with the results, but they want to know some more information. They are interested when these billionaires founded their companies and they want to know what is the 25 percentile oldest companies that billionaire currently have founded.\n",
    "\n",
    "So they are not just interested in the statistic on the dataset, they are interested as well in what the true population looks like. So that means we need to do bootstrapping.\n",
    "\n",
    "First step get the data:"
   ]
  },
  {
   "cell_type": "code",
   "execution_count": 1,
   "metadata": {
    "collapsed": true
   },
   "outputs": [],
   "source": [
    "import pandas as pd\n",
    "import numpy as np\n",
    "\n",
    "df = pd.read_csv('../data/billionaires.csv')\n",
    "\n",
    "del df['was founder']\n",
    "del df['inherited']\n",
    "del df['from emerging']\n",
    "\n",
    "df.age.replace(-1, np.NaN, inplace=True)\n",
    "df.founded.replace(0, np.NaN, inplace=True)\n",
    "df.gdp.replace(0, np.NaN, inplace=True)"
   ]
  },
  {
   "cell_type": "markdown",
   "metadata": {},
   "source": [
    "The second step will be to isolate our original sample:"
   ]
  },
  {
   "cell_type": "code",
   "execution_count": 5,
   "metadata": {},
   "outputs": [
    {
     "data": {
      "text/plain": [
       "count    1641.000000\n",
       "mean     1963.185253\n",
       "std        38.071352\n",
       "min      1615.000000\n",
       "25%      1948.000000\n",
       "50%      1973.000000\n",
       "75%      1991.000000\n",
       "max      2012.000000\n",
       "Name: founded, dtype: float64"
      ]
     },
     "execution_count": 5,
     "metadata": {},
     "output_type": "execute_result"
    }
   ],
   "source": [
    "df2014 = df[df.year == 2014]\n",
    "\n",
    "founded_sample = df2014.founded.dropna()\n",
    "\n",
    "founded_sample.describe()"
   ]
  },
  {
   "cell_type": "markdown",
   "metadata": {},
   "source": [
    "Then we will draw bootstrap samples from our original sample:"
   ]
  },
  {
   "cell_type": "code",
   "execution_count": 6,
   "metadata": {
    "collapsed": true
   },
   "outputs": [],
   "source": [
    "bootstrap_samples = np.random.choice(founded_sample, size=(founded_sample.count(), 9999))"
   ]
  },
  {
   "cell_type": "markdown",
   "metadata": {},
   "source": [
    "Now we will compute the estimate of interest from each of the samples:"
   ]
  },
  {
   "cell_type": "code",
   "execution_count": 8,
   "metadata": {},
   "outputs": [
    {
     "data": {
      "text/plain": [
       "(9999,)"
      ]
     },
     "execution_count": 8,
     "metadata": {},
     "output_type": "execute_result"
    }
   ],
   "source": [
    "bootstrap_estimates = np.percentile(bootstrap_samples, 25, axis=0)\n",
    "\n",
    "bootstrap_estimates.shape"
   ]
  },
  {
   "cell_type": "markdown",
   "metadata": {},
   "source": [
    "Now we plot the distribution:"
   ]
  },
  {
   "cell_type": "code",
   "execution_count": 9,
   "metadata": {},
   "outputs": [
    {
     "data": {
      "text/plain": [
       "<matplotlib.axes._subplots.AxesSubplot at 0x10cc78b50>"
      ]
     },
     "execution_count": 9,
     "metadata": {},
     "output_type": "execute_result"
    },
    {
     "data": {
      "image/png": "[encoded data removed]",
      "text/plain": [
       "<matplotlib.figure.Figure at 0x10cd11750>"
      ]
     },
     "metadata": {},
     "output_type": "display_data"
    }
   ],
   "source": [
    "%matplotlib inline\n",
    "import seaborn as sns\n",
    "\n",
    "sns.distplot(bootstrap_estimates)"
   ]
  },
  {
   "cell_type": "markdown",
   "metadata": {},
   "source": [
    "You then go back to your team and show them this distribution. And there are blank stares. They don't know what to draw from it? They just wanted a plausible range for this estimate, and this is where confidence intervals come in. \n",
    "\n",
    "## Confidence Intervals\n",
    "\n",
    "Making the confidence interval is pretty easy, we just remove the most extreme values to the left and the right of the distribution. So if we wanted a 95% confidence interval, then we would remove 2.5% of the values on the right and 2.5% of the values on the left. Let's do that below:"
   ]
  },
  {
   "cell_type": "code",
   "execution_count": 10,
   "metadata": {},
   "outputs": [
    {
     "name": "stdout",
     "output_type": "stream",
     "text": [
      "1946.0\n",
      "1951.0\n"
     ]
    }
   ],
   "source": [
    "print(np.percentile(bootstrap_estimates, 2.5))\n",
    "print(np.percentile(bootstrap_estimates, 97.5))"
   ]
  },
  {
   "cell_type": "markdown",
   "metadata": {},
   "source": [
    "And this would be our confidence interval. In terms of visualizations, seaborn is quite nice because it will visualize this confidence interval for you if you use certain plots:"
   ]
  },
  {
   "cell_type": "code",
   "execution_count": 16,
   "metadata": {},
   "outputs": [
    {
     "data": {
      "text/plain": [
       "<matplotlib.axes._subplots.AxesSubplot at 0x11cdf6d50>"
      ]
     },
     "execution_count": 16,
     "metadata": {},
     "output_type": "execute_result"
    },
    {
     "data": {
      "image/png": "[encoded data removed]",
      "text/plain": [
       "<matplotlib.figure.Figure at 0x11ce70750>"
      ]
     },
     "metadata": {},
     "output_type": "display_data"
    }
   ],
   "source": [
    "sns.pointplot(founded_sample, ci=95, estimator=lambda x: np.percentile(x, 25))"
   ]
  },
  {
   "cell_type": "markdown",
   "metadata": {},
   "source": [
    "And if you are lazy you can just use seaborn's bootstrap confidence interval function:"
   ]
  },
  {
   "cell_type": "code",
   "execution_count": 24,
   "metadata": {},
   "outputs": [
    {
     "data": {
      "text/plain": [
       "(10000,)"
      ]
     },
     "execution_count": 24,
     "metadata": {},
     "output_type": "execute_result"
    }
   ],
   "source": [
    "sns_bs = sns.algorithms.bootstrap(founded_sample, func=lambda x: np.percentile(x, 25))\n",
    "\n",
    "sns_bs.shape"
   ]
  },
  {
   "cell_type": "code",
   "execution_count": 25,
   "metadata": {},
   "outputs": [
    {
     "name": "stdout",
     "output_type": "stream",
     "text": [
      "1946.0\n",
      "1950.0\n"
     ]
    }
   ],
   "source": [
    "print(np.percentile(sns_bs, 2.5))\n",
    "print(np.percentile(sns_bs, 97.5))"
   ]
  },
  {
   "cell_type": "markdown",
   "metadata": {},
   "source": [
    "## Hypothesis tests\n",
    "\n",
    "Your team is super happy and can make decisions based on the information that you gave them! Yes! But they come back to you with a final question:\n",
    "\n",
    "Our hypothesis is that billionaires over the age of 60 have a different net worth than those under that age. Do you think that's right?\n",
    "\n",
    "This type of question is where hypothesis testing comes in. In a bootstrap hypothesis test you simply look to see the smallest confidence interval that your hypothesis falls into. So if your hypothesis falls into a 75% confidence interval, you can report a p value of .25 (in other words you will reject the hypothesis wrongly 25% of the time). Based on that p value your organization can decide what to do.\n",
    "\n",
    "Let's start off by getting the appropriate sample:"
   ]
  },
  {
   "cell_type": "code",
   "execution_count": 31,
   "metadata": {},
   "outputs": [
    {
     "data": {
      "text/plain": [
       "((899,), (691,))"
      ]
     },
     "execution_count": 31,
     "metadata": {},
     "output_type": "execute_result"
    }
   ],
   "source": [
    "old_money = df2014[df2014.age > 60]['worth in billions']\n",
    "young_money = df2014[df2014.age <= 60]['worth in billions']\n",
    "\n",
    "old_money.shape, young_money.shape"
   ]
  },
  {
   "cell_type": "code",
   "execution_count": 32,
   "metadata": {},
   "outputs": [
    {
     "data": {
      "text/plain": [
       "((10000,), (10000,))"
      ]
     },
     "execution_count": 32,
     "metadata": {},
     "output_type": "execute_result"
    }
   ],
   "source": [
    "money = df2014[df2014.age > 60]['worth in billions']\n",
    "young_money = df2014[df2014.age <= 60]['worth in billions']\n",
    "\n",
    "old_money.shape, young_money.shape\n",
    "\n",
    "# we then bootstrap on both\n",
    "old_bs = sns.algorithms.bootstrap(old_money)\n",
    "young_bs = sns.algorithms.bootstrap(young_money)\n",
    "\n",
    "old_bs.shape, young_bs.shape"
   ]
  },
  {
   "cell_type": "code",
   "execution_count": 33,
   "metadata": {},
   "outputs": [
    {
     "data": {
      "text/plain": [
       "<matplotlib.axes._subplots.AxesSubplot at 0x11d224690>"
      ]
     },
     "execution_count": 33,
     "metadata": {},
     "output_type": "execute_result"
    },
    {
     "data": {
      "image/png": "[encoded data removed]",
      "text/plain": [
       "<matplotlib.figure.Figure at 0x11d345850>"
      ]
     },
     "metadata": {},
     "output_type": "display_data"
    }
   ],
   "source": [
    "# Then we subtract the both from each other\n",
    "old_minus_young = old_bs - young_bs\n",
    "\n",
    "sns.distplot(old_minus_young)"
   ]
  },
  {
   "cell_type": "markdown",
   "metadata": {},
   "source": [
    "Okay, the above is our bootstrap sampling distribution of the mean net worth of old minus young billionaires. If they had the same net worth then subtracting one from another would yeild a distribution centered at 0. We can see above that this is not true, but how not true is it. Well let's find the smallest confidence interval that our hypothesis of 0 fits in:"
   ]
  },
  {
   "cell_type": "code",
   "execution_count": 34,
   "metadata": {},
   "outputs": [
    {
     "data": {
      "text/plain": [
       "0.0016000000000000001"
      ]
     },
     "execution_count": 34,
     "metadata": {},
     "output_type": "execute_result"
    }
   ],
   "source": [
    "# We multiply by two because we need to account for the area on the other side of the interval\n",
    "(old_minus_young < 0).mean() * 2"
   ]
  },
  {
   "cell_type": "markdown",
   "metadata": {},
   "source": [
    "## A warning\n",
    "\n",
    "The above value is our p value. And we can say that if we reject this hypothesis we will only be wrong .16% of the time. Pretty good right?\n",
    "\n",
    "There is one thing that needs to be said before we end our lesson here, and that is to mention black swans. We know from our previous analysis that worth in billions has a long right tail, and is a power law distribution. A single person can shift the average. For example it would not be impossible that one person had 500 billion dollars, and if they were included in the young populaiton, then the mean would shift by 1 billion dollars. Crazy right. Because this type of event is possible we need to be sure to alert people that use this data that an event like this may happen. This type of event on the other hand could not have happened with age (nobody can be 500 years old)."
   ]
  },
  {
   "cell_type": "code",
   "execution_count": null,
   "metadata": {
    "collapsed": true
   },
   "outputs": [],
   "source": []
  }
 ],
 "metadata": {
  "kernelspec": {
   "display_name": "Python 2",
   "language": "python",
   "name": "python2"
  },
  "language_info": {
   "codemirror_mode": {
    "name": "ipython",
    "version": 2
   },
   "file_extension": ".py",
   "mimetype": "text/x-python",
   "name": "python",
   "nbconvert_exporter": "python",
   "pygments_lexer": "ipython2",
   "version": "2.7.10"
  }
 },
 "nbformat": 4,
 "nbformat_minor": 2
}
