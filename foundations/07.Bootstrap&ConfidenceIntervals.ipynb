{
 "cells": [
  {
   "cell_type": "markdown",
   "metadata": {},
   "source": [
    "## Something is not normal\n",
    "\n",
    "This is probably the point where I should bring this up, but this is not the normal way that people generally go about teaching confidence intervals. \n",
    "\n",
    "Generally speaking people will walk down the road of old school inferential statistics and teach you confidence intervals using the Central Limit Theorem and Normal distributions. \n",
    "\n",
    "There are two reasons that I am not doing this:\n",
    "\n",
    "1. This would require a lot more stats knowledge to fully understand and grasp\n",
    "2. This is much less powerful than bootstrap confidence intervals and hypothesis tests\n",
    "\n",
    "And for those reasons we are sticking with bootstrap tests. \n",
    "\n",
    "Let me make one final point here: there are sooo many ways to do the above! There are hundreds of ways that do better under one condition or another, so I have tried to optimize for versatility and simplicity when choosing the methods I show below. \n",
    "\n",
    "Before we continue, we need to look at the assumptions again, because WITHOUT THE ASSUMPTIONS WE CANNOT DO ANY OF THE BELOW!!!"
   ]
  },
  {
   "cell_type": "code",
   "execution_count": 15,
   "metadata": {},
   "outputs": [
    {
     "data": {
      "image/png": "[encoded data removed]",
      "text/plain": [
       "<IPython.core.display.Image object>"
      ]
     },
     "execution_count": 15,
     "metadata": {},
     "output_type": "execute_result"
    }
   ],
   "source": [
    "import networkx as nx\n",
    "from nxpd import draw\n",
    "from nxpd import nxpdParams\n",
    "nxpdParams['show'] = 'ipynb'\n",
    "\n",
    "G = nx.DiGraph()\n",
    "G.add_node('IID samples from a r.v. X')\n",
    "G.add_node('Inputs (x_1, x_2, ..., x_n)')\n",
    "G.add_edge('IID samples from a r.v. X', 'Inputs (x_1, x_2, ..., x_n)')\n",
    "draw(G)"
   ]
  },
  {
   "cell_type": "markdown",
   "metadata": {},
   "source": [
    "## A Different question\n",
    "\n",
    "Let's start off by asking a different question. Let's say we had a population, like the one below"
   ]
  },
  {
   "cell_type": "code",
   "execution_count": 16,
   "metadata": {},
   "outputs": [
    {
     "data": {
      "text/plain": [
       "array([28, 21, 23, 29, 32])"
      ]
     },
     "execution_count": 16,
     "metadata": {},
     "output_type": "execute_result"
    }
   ],
   "source": [
    "import numpy as np\n",
    "\n",
    "population_dist = np.random.poisson(30, size=1000)\n",
    "\n",
    "population_dist[:5]"
   ]
  },
  {
   "cell_type": "markdown",
   "metadata": {},
   "source": [
    "And let's say you were taking samples from it 10 at a time and finding their mean. What would you expect the mean of the samples to be? What mean would be extraordinary? \n",
    "\n",
    "To be exact, I'm asking you for a range of possible means I should expect 99% of the time. How would you figure this out?\n",
    "\n",
    "Your first instinct might be to construct and visualize the random variable representing sample means, I will do this below:"
   ]
  },
  {
   "cell_type": "code",
   "execution_count": 17,
   "metadata": {},
   "outputs": [
    {
     "data": {
      "text/plain": [
       "<matplotlib.axes._subplots.AxesSubplot at 0x10cab0b50>"
      ]
     },
     "execution_count": 17,
     "metadata": {},
     "output_type": "execute_result"
    },
    {
     "data": {
      "image/png": "[encoded data removed]",
      "text/plain": [
       "<matplotlib.figure.Figure at 0x10ccbcad0>"
      ]
     },
     "metadata": {},
     "output_type": "display_data"
    }
   ],
   "source": [
    "%matplotlib inline\n",
    "import seaborn as sns\n",
    "\n",
    "sampling_dist = [np.mean(np.random.choice(population_dist, 10, replace=False)) for _ in range(9999)]\n",
    "\n",
    "sns.distplot(sampling_dist)"
   ]
  },
  {
   "cell_type": "markdown",
   "metadata": {},
   "source": [
    "*Note that this distribution has a special name, the sampling distribution*\n",
    "\n",
    "Okay now what would you say? Would getting a mean of 30 be unexpected? What about 36? What about 40? Obviously you can give me answers to the above, but they did not exactly answer my question. What would be a reasonable range?\n",
    "\n",
    "One way that we can phrase this question is: how far from the actual mean do you expect your sample mean to be?\n",
    "\n",
    "The actual mean of this guy is 30, so how far from 30 do you expect it to be? Well what fraction of samples above are more than 5 away from 30?"
   ]
  },
  {
   "cell_type": "code",
   "execution_count": 18,
   "metadata": {},
   "outputs": [
    {
     "data": {
      "text/plain": [
       "0.0014001400140014001"
      ]
     },
     "execution_count": 18,
     "metadata": {},
     "output_type": "execute_result"
    }
   ],
   "source": [
    "((np.array(sampling_dist) - 30)**2 > 25).mean()"
   ]
  },
  {
   "cell_type": "markdown",
   "metadata": {},
   "source": [
    "It looks like there is less than a 1% chance that the sample mean is more than 5 away from the real mean of the population..."
   ]
  },
  {
   "cell_type": "markdown",
   "metadata": {},
   "source": [
    "**Whoa**\n",
    "\n",
    "What did we just say:\n",
    "\n",
    "...there is less than a 1% chance that the sample mean is more than 5 away from the real mean of the population...\n",
    "\n",
    "Do y'all see what we did. We just made an interval that we are 99% sure contains the real mean, aka the sample mean plus or minus 5. We just need to reverse the order of the statement to see it fully:\n",
    "\n",
    "...there is less than a 1% chance that the real mean is more than 5 away from the sample mean of the population..."
   ]
  },
  {
   "cell_type": "markdown",
   "metadata": {},
   "source": [
    "## Bootstrap Confidence Interval\n",
    "\n",
    "So the question is how did we get there? Let me recap in a couple of steps:\n",
    "\n",
    "1. We sampled from the distribution a ton of times to make a sampling distribution\n",
    "2. We found the distance from the mean such that a sample would have a less than X% chance of being further\n",
    "\n",
    "Basically we just made a complex function of the population distribution. If there were only a way to esitmate the answer to this function from the sample...\n",
    "\n",
    "XD\n",
    "\n",
    "You guessed it, this is another application of the plug in principle. This is formally called bootstrapping, let's have a look to see how it is done below:"
   ]
  },
  {
   "cell_type": "code",
   "execution_count": 19,
   "metadata": {},
   "outputs": [
    {
     "data": {
      "text/plain": [
       "<matplotlib.axes._subplots.AxesSubplot at 0x10d0e6bd0>"
      ]
     },
     "execution_count": 19,
     "metadata": {},
     "output_type": "execute_result"
    },
    {
     "data": {
      "image/png": "[encoded data removed]",
      "text/plain": [
       "<matplotlib.figure.Figure at 0x10cfd8250>"
      ]
     },
     "metadata": {},
     "output_type": "display_data"
    }
   ],
   "source": [
    "sample = np.random.choice(population_dist, 10, replace=False)\n",
    "\n",
    "bootstrap_dist = [np.mean(np.random.choice(sample, 10, replace=True)) for _ in range(9999)]\n",
    "\n",
    "sns.distplot(bootstrap_dist)"
   ]
  },
  {
   "cell_type": "markdown",
   "metadata": {},
   "source": [
    "Next step we find the distance from the sample mean such that it would have less than an X% chance of being further:"
   ]
  },
  {
   "cell_type": "code",
   "execution_count": 20,
   "metadata": {},
   "outputs": [
    {
     "name": "stdout",
     "output_type": "stream",
     "text": [
      "30.6\n"
     ]
    },
    {
     "data": {
      "text/plain": [
       "0.0015001500150015"
      ]
     },
     "execution_count": 20,
     "metadata": {},
     "output_type": "execute_result"
    }
   ],
   "source": [
    "sample_mean = np.mean(sample)\n",
    "print sample_mean\n",
    "\n",
    "((np.array(bootstrap_dist) - sample_mean)**2 > 25).mean()"
   ]
  },
  {
   "cell_type": "markdown",
   "metadata": {},
   "source": [
    "### Percentile Confidence Interval\n",
    "\n",
    "Well I hope you are smiling now. When I first saw this it was like magic for me. It is simply an application of the plug in principle. For all this knowledge we had to learn just one thing. It almost feels like cheating!\n",
    "\n",
    "There is one shortcut I am going to use throughout the class, and that will be the percentile confidence interval for bootstrap. It is a pretty simple change from what we do above. It makes one more assumption, that the bootstrap distribution is symetric (the long name for it is the bootstrap central limit theorum). \n",
    "\n",
    "But the concept is pretty simple.\n",
    "\n",
    "Let's say you are looking for a 95% confidence interval. Simply take the bootstrap distribution that we made above, and trim off the 2.5% of the extremes on the right and the left, like so:"
   ]
  },
  {
   "cell_type": "code",
   "execution_count": 21,
   "metadata": {},
   "outputs": [
    {
     "name": "stdout",
     "output_type": "stream",
     "text": [
      "27.3\n",
      "33.8\n"
     ]
    }
   ],
   "source": [
    "print np.percentile(bootstrap_dist, 2.5)\n",
    "print np.percentile(bootstrap_dist, 97.5)"
   ]
  },
  {
   "cell_type": "markdown",
   "metadata": {},
   "source": [
    "And that is the 95% confidence interval!\n",
    "\n",
    "Seaborn even has nice visualizations of confidence intervals built in:"
   ]
  },
  {
   "cell_type": "code",
   "execution_count": 22,
   "metadata": {},
   "outputs": [
    {
     "data": {
      "text/plain": [
       "<matplotlib.axes._subplots.AxesSubplot at 0x10d0e64d0>"
      ]
     },
     "execution_count": 22,
     "metadata": {},
     "output_type": "execute_result"
    },
    {
     "data": {
      "image/png": "[encoded data removed]",
      "text/plain": [
       "<matplotlib.figure.Figure at 0x10d1718d0>"
      ]
     },
     "metadata": {},
     "output_type": "display_data"
    }
   ],
   "source": [
    "sns.pointplot(sample, ci=95)"
   ]
  },
  {
   "cell_type": "markdown",
   "metadata": {},
   "source": [
    "As well as a simple function to do it for you:"
   ]
  },
  {
   "cell_type": "code",
   "execution_count": 23,
   "metadata": {},
   "outputs": [
    {
     "name": "stdout",
     "output_type": "stream",
     "text": [
      "27.3\n",
      "33.8\n"
     ]
    }
   ],
   "source": [
    "bootstrap_dist = sns.algorithms.bootstrap(sample, n_boot=9999, func=np.mean)\n",
    "\n",
    "print np.percentile(bootstrap_dist, 2.5)\n",
    "print np.percentile(bootstrap_dist, 97.5)"
   ]
  },
  {
   "cell_type": "markdown",
   "metadata": {},
   "source": [
    "Now before we move on I want to say something on the method we use here, and that is on the randomness. \n",
    "\n",
    "Where does the randomness come from?\n",
    "\n",
    "We have a sampling distribution for our true population statistic. Does this mean that the true population statistic is random? \n",
    "\n",
    "No\n",
    "\n",
    "What this means is that by taking RANDOM SAMPLES we get RANDOM ESTIMATES OF THE POPULATION STATISTIC. The population statistic stays the same.\n",
    "\n",
    "So when we say that we are 95% confident that the true population statistic lies within these bounds that are generated via random sampling, what we mean is that 95% of the time we will sample such that the bounds contain the true population statistic. \n",
    "\n",
    "This is a crucial difference to understand, so feel free to go through this section twice."
   ]
  },
  {
   "cell_type": "markdown",
   "metadata": {},
   "source": [
    "## It get's smaller\n",
    "\n",
    "We should mention again the tradeoff that we said when we first introduced the plug in principle: as we get bigger samples, the estimate gets better. We can see this quite visibly here. As we get more samples the confidence interval will decrease because we are more confident in what the true population parameter will be. We can visually see this here, check out the confidence intervals of different sizes of samples:"
   ]
  },
  {
   "cell_type": "code",
   "execution_count": 26,
   "metadata": {},
   "outputs": [
    {
     "name": "stdout",
     "output_type": "stream",
     "text": [
      "Sample size is 5\n",
      "22.6\n",
      "35.8\n",
      "Sample size is 50\n",
      "30.58\n",
      "33.16\n"
     ]
    }
   ],
   "source": [
    "sample = np.random.choice(population_dist, 5, replace=False)\n",
    "\n",
    "bootstrap_dist = sns.algorithms.bootstrap(sample, n_boot=9999, func=np.mean)\n",
    "\n",
    "print 'Sample size is 5'\n",
    "print np.percentile(bootstrap_dist, 2.5)\n",
    "print np.percentile(bootstrap_dist, 97.5)\n",
    "\n",
    "sample = np.random.choice(population_dist, 50, replace=False)\n",
    "\n",
    "bootstrap_dist = sns.algorithms.bootstrap(sample, n_boot=9999, func=np.mean)\n",
    "\n",
    "print 'Sample size is 50'\n",
    "print np.percentile(bootstrap_dist, 2.5)\n",
    "print np.percentile(bootstrap_dist, 97.5)"
   ]
  },
  {
   "cell_type": "markdown",
   "metadata": {},
   "source": [
    "## Why this matters\n",
    "\n",
    "Well hopefully you can see how this matters a ton! Any time you are curious about characteristics of a population based on data that you get from a sample, these techniques can help you ascertain reasonable bounds for that characteristic or falsify your assumptions.\n",
    "\n",
    "What is most important to remember is that you can't just use these techniques willy nilly! You must satisfy the assumptions above, and only then will the techniques prove correct! "
   ]
  },
  {
   "cell_type": "code",
   "execution_count": null,
   "metadata": {
    "collapsed": true
   },
   "outputs": [],
   "source": []
  }
 ],
 "metadata": {
  "kernelspec": {
   "display_name": "Python 2",
   "language": "python",
   "name": "python2"
  },
  "language_info": {
   "codemirror_mode": {
    "name": "ipython",
    "version": 2
   },
   "file_extension": ".py",
   "mimetype": "text/x-python",
   "name": "python",
   "nbconvert_exporter": "python",
   "pygments_lexer": "ipython2",
   "version": "2.7.13"
  }
 },
 "nbformat": 4,
 "nbformat_minor": 2
}
